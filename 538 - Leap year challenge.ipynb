{
 "cells": [
  {
   "cell_type": "code",
   "execution_count": 1,
   "id": "aed4f183",
   "metadata": {},
   "outputs": [
    {
     "data": {
      "text/plain": [
       "'The end of daylight saving time here on the East Coast of the U.S. \\ngot me thinking more generally about the calendar year. \\nEach solar year consists of approximately 365.24217 mean solar days. \\nThat’s pretty close to 365.25, which is why it makes sense to have an extra day every four years. \\nHowever, the Gregorian calendar is a little more precise: \\nThere are 97 leap years every 400 years, averaging out to 365.2425 days per year.\\n\\nCan you make a better approximation than the Gregorian calendar? \\nFind numbers L and N (where N is less than 400) such that if every cycle of N years includes L leap years, \\nthe average number of days per year is as close as possible to 365.24217.'"
      ]
     },
     "execution_count": 1,
     "metadata": {},
     "output_type": "execute_result"
    }
   ],
   "source": [
    "\"\"\"The end of daylight saving time here on the East Coast of the U.S. \n",
    "got me thinking more generally about the calendar year. \n",
    "Each solar year consists of approximately 365.24217 mean solar days. \n",
    "That’s pretty close to 365.25, which is why it makes sense to have an extra day every four years. \n",
    "However, the Gregorian calendar is a little more precise: \n",
    "There are 97 leap years every 400 years, averaging out to 365.2425 days per year.\n",
    "\n",
    "Can you make a better approximation than the Gregorian calendar? \n",
    "Find numbers L and N (where N is less than 400) such that if every cycle of N years includes L leap years, \n",
    "the average number of days per year is as close as possible to 365.24217.\"\"\""
   ]
  },
  {
   "cell_type": "code",
   "execution_count": 75,
   "id": "4f3bc052",
   "metadata": {},
   "outputs": [],
   "source": [
    "DY = 365.24217\n",
    "Y=365\n",
    "LY=366\n",
    "X = []"
   ]
  },
  {
   "cell_type": "code",
   "execution_count": 76,
   "id": "871616a6",
   "metadata": {},
   "outputs": [],
   "source": [
    "for N in range(401):\n",
    "    for L in range(N):\n",
    "        if L+N < 401:\n",
    "            Z = (Y*(N/(N+L)))+(LY*(L/(N+L)))\n",
    "            D = float(Z-DY)\n",
    "            E = round(abs(D),10)\n",
    "            T = L+N\n",
    "            X.append((E,Z,L,T))"
   ]
  },
  {
   "cell_type": "code",
   "execution_count": 77,
   "id": "c063bab9",
   "metadata": {},
   "outputs": [],
   "source": [
    "S = sorted(X)"
   ]
  },
  {
   "cell_type": "code",
   "execution_count": 78,
   "id": "1bf4fe85",
   "metadata": {},
   "outputs": [
    {
     "data": {
      "text/plain": [
       "[(4.7578e-06, 365.24216524216524, 85, 351),\n",
       " (1.75e-05, 365.2421875, 31, 128),\n",
       " (1.75e-05, 365.2421875, 62, 256),\n",
       " (1.75e-05, 365.2421875, 93, 384)]"
      ]
     },
     "execution_count": 78,
     "metadata": {},
     "output_type": "execute_result"
    }
   ],
   "source": [
    "S[0:4]"
   ]
  },
  {
   "cell_type": "code",
   "execution_count": 79,
   "id": "c5a8bc14",
   "metadata": {},
   "outputs": [],
   "source": [
    "W = S[0]"
   ]
  },
  {
   "cell_type": "code",
   "execution_count": 81,
   "id": "6fe2f97a",
   "metadata": {},
   "outputs": [
    {
     "name": "stdout",
     "output_type": "stream",
     "text": [
      "The most precise leap-year schedule within a 400-year timeframe is  85  leap years every  351  years\n"
     ]
    }
   ],
   "source": [
    "print(\"The most precise leap-year schedule within a 400-year timeframe is \",W[2],\" leap years every \",W[3],\" years\")"
   ]
  },
  {
   "cell_type": "code",
   "execution_count": null,
   "id": "42a4e904",
   "metadata": {},
   "outputs": [],
   "source": []
  }
 ],
 "metadata": {
  "kernelspec": {
   "display_name": "Python 3",
   "language": "python",
   "name": "python3"
  },
  "language_info": {
   "codemirror_mode": {
    "name": "ipython",
    "version": 3
   },
   "file_extension": ".py",
   "mimetype": "text/x-python",
   "name": "python",
   "nbconvert_exporter": "python",
   "pygments_lexer": "ipython3",
   "version": "3.8.8"
  }
 },
 "nbformat": 4,
 "nbformat_minor": 5
}
