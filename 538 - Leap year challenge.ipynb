{
 "cells": [
  {
   "cell_type": "code",
   "execution_count": 1,
   "id": "c0420e74",
   "metadata": {},
   "outputs": [
    {
     "data": {
      "text/plain": [
       "'The end of daylight saving time here on the East Coast of the U.S. \\ngot me thinking more generally about the calendar year. \\nEach solar year consists of approximately 365.24217 mean solar days. \\nThat’s pretty close to 365.25, which is why it makes sense to have an extra day every four years. \\nHowever, the Gregorian calendar is a little more precise: \\nThere are 97 leap years every 400 years, averaging out to 365.2425 days per year.\\n\\nCan you make a better approximation than the Gregorian calendar? \\nFind numbers L and N (where N is less than 400) such that if every cycle of N years includes L leap years, \\nthe average number of days per year is as close as possible to 365.24217.'"
      ]
     },
     "execution_count": 1,
     "metadata": {},
     "output_type": "execute_result"
    }
   ],
   "source": [
    "\"\"\"The end of daylight saving time here on the East Coast of the U.S. \n",
    "got me thinking more generally about the calendar year. \n",
    "Each solar year consists of approximately 365.24217 mean solar days. \n",
    "That’s pretty close to 365.25, which is why it makes sense to have an extra day every four years. \n",
    "However, the Gregorian calendar is a little more precise: \n",
    "There are 97 leap years every 400 years, averaging out to 365.2425 days per year.\n",
    "\n",
    "Can you make a better approximation than the Gregorian calendar? \n",
    "Find numbers L and N (where N is less than 400) such that if every cycle of N years includes L leap years, \n",
    "the average number of days per year is as close as possible to 365.24217.\"\"\""
   ]
  },
  {
   "cell_type": "code",
   "execution_count": 92,
   "id": "20c9d659",
   "metadata": {},
   "outputs": [],
   "source": [
    "DY = 365.24217\n",
    "Y=365\n",
    "LY=366\n",
    "X = []"
   ]
  },
  {
   "cell_type": "code",
   "execution_count": 93,
   "id": "d584b33a",
   "metadata": {},
   "outputs": [],
   "source": [
    "for N in range(401):\n",
    "    for L in range(N):\n",
    "        if L+N < 401:\n",
    "            Z = (Y*(N/(N+L)))+(LY*(L/(N+L)))\n",
    "            D = float(Z-DY)\n",
    "            E = round(abs(D),20)\n",
    "            T = L+N\n",
    "            X.append((E,Z,L,T))"
   ]
  },
  {
   "cell_type": "code",
   "execution_count": 94,
   "id": "0eedca65",
   "metadata": {},
   "outputs": [],
   "source": [
    "S = sorted(X)"
   ]
  },
  {
   "cell_type": "code",
   "execution_count": 95,
   "id": "c2b89b72",
   "metadata": {},
   "outputs": [
    {
     "data": {
      "text/plain": [
       "[(4.7578347448507e-06, 365.24216524216524, 85, 351),\n",
       " (1.750000001266017e-05, 365.2421875, 31, 128),\n",
       " (1.750000001266017e-05, 365.2421875, 62, 256),\n",
       " (1.750000001266017e-05, 365.2421875, 93, 384)]"
      ]
     },
     "execution_count": 95,
     "metadata": {},
     "output_type": "execute_result"
    }
   ],
   "source": [
    "S[0:4]"
   ]
  },
  {
   "cell_type": "code",
   "execution_count": 96,
   "id": "ca9af7a0",
   "metadata": {},
   "outputs": [],
   "source": [
    "W = S[0]"
   ]
  },
  {
   "cell_type": "code",
   "execution_count": 97,
   "id": "4df6fb2a",
   "metadata": {},
   "outputs": [
    {
     "name": "stdout",
     "output_type": "stream",
     "text": [
      "The most precise leap-year schedule within a 400-year timeframe is  85  leap years every  351  years.\n",
      "Each year would average  365.24216524216524  days, only a difference of about  0.000005  days from the  365.24217  solar days in a solar year!\n"
     ]
    }
   ],
   "source": [
    "print(\"The most precise leap-year schedule within a 400-year timeframe is \",W[2],\" leap years every \",W[3],\" years.\")\n",
    "print(\"Each year would average \",W[1],\" days, only a difference of about \",f\"{W[0]:8f}\",\" days from the \",DY,\" solar days in a solar year!\")"
   ]
  },
  {
   "cell_type": "code",
   "execution_count": null,
   "id": "5d01654b",
   "metadata": {},
   "outputs": [],
   "source": []
  }
 ],
 "metadata": {
  "kernelspec": {
   "display_name": "Python 3",
   "language": "python",
   "name": "python3"
  },
  "language_info": {
   "codemirror_mode": {
    "name": "ipython",
    "version": 3
   },
   "file_extension": ".py",
   "mimetype": "text/x-python",
   "name": "python",
   "nbconvert_exporter": "python",
   "pygments_lexer": "ipython3",
   "version": "3.8.8"
  }
 },
 "nbformat": 4,
 "nbformat_minor": 5
}
