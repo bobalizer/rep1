{
 "cells": [
  {
   "cell_type": "code",
   "execution_count": null,
   "id": "3d2f342d",
   "metadata": {},
   "outputs": [],
   "source": []
  },
  {
   "cell_type": "markdown",
   "id": "dde47135",
   "metadata": {},
   "source": [
    "Import modules"
   ]
  },
  {
   "cell_type": "code",
   "execution_count": 22,
   "id": "405e153d",
   "metadata": {},
   "outputs": [],
   "source": [
    "import os\n",
    "import math \n",
    "import numpy as np\n",
    "import pandas as pd\n",
    "import scipy as sp\n",
    "\n",
    "from datetime import datetime\n",
    "#\n",
    "# plotting and visualization\n",
    "#\n",
    "import matplotlib as mpl\n",
    "import matplotlib.cm as cm\n",
    "from matplotlib.colors import ListedColormap\n",
    "import matplotlib.pyplot as plt\n",
    "#\n",
    "import seaborn as sns\n",
    "#\n",
    "# modeling\n",
    "#\n",
    "from sklearn.preprocessing import OneHotEncoder as OHE\n",
    "import sklearn.model_selection\n",
    "from sklearn.model_selection import train_test_split\n",
    "from sklearn.model_selection import KFold\n",
    "from sklearn.linear_model import LogisticRegression, LogisticRegressionCV\n",
    "from sklearn.model_selection import StratifiedKFold\n",
    "from sklearn import linear_model\n",
    "from sklearn.metrics import accuracy_score, f1_score, roc_auc_score, recall_score, precision_score\n",
    "from sklearn.metrics import classification_report\n",
    "from sklearn.metrics import confusion_matrix\n",
    "from sklearn.metrics import ConfusionMatrixDisplay\n",
    "from sklearn.model_selection import GridSearchCV\n",
    "from sklearn.preprocessing import StandardScaler\n",
    "from sklearn.pipeline import Pipeline\n",
    "from sklearn.model_selection import cross_val_score\n",
    "from sklearn.ensemble import RandomForestClassifier\n",
    "\n",
    "#ignore warning messages to ensure clean outputs\n",
    "import warnings\n",
    "warnings.filterwarnings('ignore')"
   ]
  },
  {
   "cell_type": "markdown",
   "id": "ff3985da",
   "metadata": {},
   "source": [
    "Load pertinent CSV files"
   ]
  },
  {
   "cell_type": "code",
   "execution_count": 23,
   "id": "f587bb4d",
   "metadata": {},
   "outputs": [],
   "source": [
    "path = r'C:\\Users\\Joseph Shire\\Documents\\Springboard Python Data Science\\Python Scripts\\springboard\\NFL Projects\\Predicting prospects'"
   ]
  },
  {
   "cell_type": "code",
   "execution_count": 24,
   "id": "82ccd967",
   "metadata": {},
   "outputs": [],
   "source": [
    "combine = pd.read_csv(path+'\\combine.csv')\n",
    "draft = pd.read_csv(path+'\\draft.csv')\n",
    "passer = pd.read_csv(path+'\\passer.csv')\n",
    "games = pd.read_csv(path+'\\games.csv')\n",
    "gameParticipation = pd.read_csv(path+'\\gameParticipation.csv')\n"
   ]
  },
  {
   "cell_type": "markdown",
   "id": "c4209763",
   "metadata": {},
   "source": [
    "View info on each dataset"
   ]
  },
  {
   "cell_type": "code",
   "execution_count": 25,
   "id": "3d3d3c67",
   "metadata": {},
   "outputs": [
    {
     "name": "stdout",
     "output_type": "stream",
     "text": [
      "<class 'pandas.core.frame.DataFrame'>\n",
      "RangeIndex: 10080 entries, 0 to 10079\n",
      "Data columns (total 35 columns):\n",
      " #   Column              Non-Null Count  Dtype  \n",
      "---  ------              --------------  -----  \n",
      " 0   combineId           10080 non-null  int64  \n",
      " 1   playerId            10080 non-null  int64  \n",
      " 2   combineYear         10080 non-null  int64  \n",
      " 3   combinePosition     10080 non-null  object \n",
      " 4   combineHeight       10080 non-null  float64\n",
      " 5   combineWeight       10080 non-null  int64  \n",
      " 6   combineHand         3592 non-null   float64\n",
      " 7   nameFirst           10078 non-null  object \n",
      " 8   nameLast            10078 non-null  object \n",
      " 9   nameFull            10078 non-null  object \n",
      " 10  position            10077 non-null  object \n",
      " 11  collegeId           10078 non-null  float64\n",
      " 12  nflId               8993 non-null   object \n",
      " 13  college             10078 non-null  object \n",
      " 14  heightInches        10073 non-null  float64\n",
      " 15  weight              10073 non-null  float64\n",
      " 16  dob                 8491 non-null   object \n",
      " 17  ageAtDraft          8491 non-null   float64\n",
      " 18  playerProfileUrl    8993 non-null   object \n",
      " 19  homeCity            7522 non-null   object \n",
      " 20  homeState           7373 non-null   object \n",
      " 21  homeCountry         7569 non-null   object \n",
      " 22  highSchool          4172 non-null   object \n",
      " 23  hsCity              2327 non-null   object \n",
      " 24  hsState             4157 non-null   object \n",
      " 25  hsCountry           4172 non-null   object \n",
      " 26  combineArm          3277 non-null   float64\n",
      " 27  combine40yd         9022 non-null   float64\n",
      " 28  combineVert         8461 non-null   float64\n",
      " 29  combineBench        7168 non-null   float64\n",
      " 30  combineShuttle      7486 non-null   float64\n",
      " 31  combineBroad        8311 non-null   float64\n",
      " 32  combine3cone        4814 non-null   float64\n",
      " 33  combine60ydShuttle  1773 non-null   float64\n",
      " 34  combineWonderlic    365 non-null    float64\n",
      "dtypes: float64(15), int64(4), object(16)\n",
      "memory usage: 2.7+ MB\n"
     ]
    }
   ],
   "source": [
    "combine.info()"
   ]
  },
  {
   "cell_type": "code",
   "execution_count": 26,
   "id": "16e156fc",
   "metadata": {},
   "outputs": [
    {
     "name": "stdout",
     "output_type": "stream",
     "text": [
      "<class 'pandas.core.frame.DataFrame'>\n",
      "RangeIndex: 397265 entries, 0 to 397264\n",
      "Data columns (total 19 columns):\n",
      " #   Column         Non-Null Count   Dtype \n",
      "---  ------         --------------   ----- \n",
      " 0   passId         397265 non-null  int64 \n",
      " 1   playId         397265 non-null  int64 \n",
      " 2   teamId         397265 non-null  int64 \n",
      " 3   playerId       397265 non-null  int64 \n",
      " 4   passPosition   397265 non-null  object\n",
      " 5   passOutcomes   397265 non-null  object\n",
      " 6   passDirection  327142 non-null  object\n",
      " 7   passDepth      324935 non-null  object\n",
      " 8   passLength     397265 non-null  int64 \n",
      " 9   passAtt        397265 non-null  int64 \n",
      " 10  passComp       397265 non-null  int64 \n",
      " 11  passTd         397265 non-null  int64 \n",
      " 12  passInt        397265 non-null  int64 \n",
      " 13  passIntTd      397265 non-null  int64 \n",
      " 14  passSack       397265 non-null  int64 \n",
      " 15  passSackYds    397265 non-null  int64 \n",
      " 16  passHit        397265 non-null  int64 \n",
      " 17  passDef        397265 non-null  int64 \n",
      " 18  passNull       397265 non-null  int64 \n",
      "dtypes: int64(15), object(4)\n",
      "memory usage: 57.6+ MB\n"
     ]
    }
   ],
   "source": [
    "passer.info()"
   ]
  },
  {
   "cell_type": "code",
   "execution_count": 27,
   "id": "37029f50",
   "metadata": {},
   "outputs": [
    {
     "name": "stdout",
     "output_type": "stream",
     "text": [
      "<class 'pandas.core.frame.DataFrame'>\n",
      "RangeIndex: 5308 entries, 0 to 5307\n",
      "Data columns (total 16 columns):\n",
      " #   Column                  Non-Null Count  Dtype \n",
      "---  ------                  --------------  ----- \n",
      " 0   gameId                  5308 non-null   int64 \n",
      " 1   season                  5308 non-null   int64 \n",
      " 2   week                    5308 non-null   int64 \n",
      " 3   gameDate                5308 non-null   object\n",
      " 4   gameTimeEastern         5308 non-null   object\n",
      " 5   gameTimeLocal           5308 non-null   object\n",
      " 6   homeTeamId              5308 non-null   int64 \n",
      " 7   visitorTeamId           5308 non-null   int64 \n",
      " 8   seasonType              5308 non-null   object\n",
      " 9   weekNameAbbr            5308 non-null   object\n",
      " 10  siteId                  5308 non-null   int64 \n",
      " 11  homeTeamDistance        5308 non-null   int64 \n",
      " 12  visitingTeamDistance    5308 non-null   int64 \n",
      " 13  homeTeamFinalScore      5308 non-null   int64 \n",
      " 14  visitingTeamFinalScore  5308 non-null   int64 \n",
      " 15  winningTeam             5308 non-null   int64 \n",
      "dtypes: int64(11), object(5)\n",
      "memory usage: 663.6+ KB\n"
     ]
    }
   ],
   "source": [
    "games.info()"
   ]
  },
  {
   "cell_type": "code",
   "execution_count": 28,
   "id": "6f879490",
   "metadata": {},
   "outputs": [
    {
     "name": "stdout",
     "output_type": "stream",
     "text": [
      "<class 'pandas.core.frame.DataFrame'>\n",
      "RangeIndex: 423185 entries, 0 to 423184\n",
      "Data columns (total 26 columns):\n",
      " #   Column             Non-Null Count   Dtype  \n",
      "---  ------             --------------   -----  \n",
      " 0   gamePartId         423185 non-null  int64  \n",
      " 1   gameId             423185 non-null  int64  \n",
      " 2   teamId             423185 non-null  int64  \n",
      " 3   playerId           423185 non-null  int64  \n",
      " 4   gamePartUnit       423185 non-null  object \n",
      " 5   gamePartSnapCount  423185 non-null  int64  \n",
      " 6   nameFirst          423113 non-null  object \n",
      " 7   nameLast           423113 non-null  object \n",
      " 8   nameFull           423113 non-null  object \n",
      " 9   position           423113 non-null  object \n",
      " 10  collegeId          423113 non-null  float64\n",
      " 11  nflId              423113 non-null  float64\n",
      " 12  combineId          269552 non-null  float64\n",
      " 13  college            423113 non-null  object \n",
      " 14  heightInches       423113 non-null  float64\n",
      " 15  weight             423113 non-null  float64\n",
      " 16  dob                420516 non-null  object \n",
      " 17  ageAtDraft         420516 non-null  float64\n",
      " 18  playerProfileUrl   423113 non-null  object \n",
      " 19  homeCity           364929 non-null  object \n",
      " 20  homeState          357506 non-null  object \n",
      " 21  homeCountry        366221 non-null  object \n",
      " 22  highSchool         342982 non-null  object \n",
      " 23  hsCity             212400 non-null  object \n",
      " 24  hsState            340780 non-null  object \n",
      " 25  hsCountry          342982 non-null  object \n",
      "dtypes: float64(6), int64(5), object(15)\n",
      "memory usage: 83.9+ MB\n"
     ]
    }
   ],
   "source": [
    "gameParticipation.info()"
   ]
  },
  {
   "cell_type": "markdown",
   "id": "ba512036",
   "metadata": {},
   "source": [
    "#### Clean the data"
   ]
  },
  {
   "cell_type": "markdown",
   "id": "d0597f25",
   "metadata": {},
   "source": [
    "##### Combine"
   ]
  },
  {
   "cell_type": "markdown",
   "id": "f46b58aa",
   "metadata": {},
   "source": [
    "Percent missing data for each column of combine dataset:"
   ]
  },
  {
   "cell_type": "code",
   "execution_count": 29,
   "id": "780beb5f",
   "metadata": {},
   "outputs": [
    {
     "data": {
      "text/plain": [
       "combineId              0.000000\n",
       "playerId               0.000000\n",
       "combineYear            0.000000\n",
       "combinePosition        0.000000\n",
       "combineHeight          0.000000\n",
       "combineWeight          0.000000\n",
       "combineHand           64.365079\n",
       "nameFirst              0.019841\n",
       "nameLast               0.019841\n",
       "nameFull               0.019841\n",
       "position               0.029762\n",
       "collegeId              0.019841\n",
       "nflId                 10.783730\n",
       "college                0.019841\n",
       "heightInches           0.069444\n",
       "weight                 0.069444\n",
       "dob                   15.763889\n",
       "ageAtDraft            15.763889\n",
       "playerProfileUrl      10.783730\n",
       "homeCity              25.376984\n",
       "homeState             26.855159\n",
       "homeCountry           24.910714\n",
       "highSchool            58.611111\n",
       "hsCity                76.914683\n",
       "hsState               58.759921\n",
       "hsCountry             58.611111\n",
       "combineArm            67.490079\n",
       "combine40yd           10.496032\n",
       "combineVert           16.061508\n",
       "combineBench          28.888889\n",
       "combineShuttle        25.734127\n",
       "combineBroad          17.549603\n",
       "combine3cone          52.242063\n",
       "combine60ydShuttle    82.410714\n",
       "combineWonderlic      96.378968\n",
       "dtype: float64"
      ]
     },
     "execution_count": 29,
     "metadata": {},
     "output_type": "execute_result"
    }
   ],
   "source": [
    "100*combine.isna().sum()/len(combine)"
   ]
  },
  {
   "cell_type": "code",
   "execution_count": 30,
   "id": "a69aaa42",
   "metadata": {},
   "outputs": [
    {
     "data": {
      "text/plain": [
       "Index(['combineId', 'playerId', 'combineYear', 'combinePosition',\n",
       "       'combineHeight', 'combineWeight', 'combineHand', 'nameFirst',\n",
       "       'nameLast', 'nameFull', 'position', 'collegeId', 'nflId', 'college',\n",
       "       'heightInches', 'weight', 'dob', 'ageAtDraft', 'playerProfileUrl',\n",
       "       'homeCity', 'homeState', 'homeCountry', 'highSchool', 'hsCity',\n",
       "       'hsState', 'hsCountry', 'combineArm', 'combine40yd', 'combineVert',\n",
       "       'combineBench', 'combineShuttle', 'combineBroad', 'combine3cone',\n",
       "       'combine60ydShuttle', 'combineWonderlic'],\n",
       "      dtype='object')"
      ]
     },
     "execution_count": 30,
     "metadata": {},
     "output_type": "execute_result"
    }
   ],
   "source": [
    "combine.columns"
   ]
  },
  {
   "cell_type": "markdown",
   "id": "cb8a3ac5",
   "metadata": {},
   "source": [
    "We can eliminate columns with an extreme amount of missing data, as well as useless information:"
   ]
  },
  {
   "cell_type": "code",
   "execution_count": 31,
   "id": "b22191f0",
   "metadata": {},
   "outputs": [],
   "source": [
    "combine = combine.drop(columns=['playerProfileUrl',\n",
    "       'homeCity', 'homeState', 'homeCountry', 'highSchool', 'hsCity',\n",
    "       'hsState', 'hsCountry','combine60ydShuttle', 'combineWonderlic','dob'])"
   ]
  },
  {
   "cell_type": "code",
   "execution_count": 32,
   "id": "7214c91f",
   "metadata": {},
   "outputs": [],
   "source": [
    "for col in combine:\n",
    "    if combine[col].isna().sum() >0 and combine[col].dtype == 'float64' :\n",
    "        combine[col].fillna(combine[col].mean(), inplace=True)"
   ]
  },
  {
   "cell_type": "code",
   "execution_count": 33,
   "id": "e13ea942",
   "metadata": {},
   "outputs": [],
   "source": [
    "combine.dropna(subset=['nameFirst',\n",
    "       'nameLast', 'nameFull'], inplace=True)"
   ]
  },
  {
   "cell_type": "code",
   "execution_count": 35,
   "id": "a7212f65",
   "metadata": {},
   "outputs": [],
   "source": [
    "combine.fillna(\"\", inplace=True)"
   ]
  },
  {
   "cell_type": "code",
   "execution_count": 36,
   "id": "c4960c5b",
   "metadata": {},
   "outputs": [
    {
     "data": {
      "text/plain": [
       "combineId          0.0\n",
       "playerId           0.0\n",
       "combineYear        0.0\n",
       "combinePosition    0.0\n",
       "combineHeight      0.0\n",
       "combineWeight      0.0\n",
       "combineHand        0.0\n",
       "nameFirst          0.0\n",
       "nameLast           0.0\n",
       "nameFull           0.0\n",
       "position           0.0\n",
       "collegeId          0.0\n",
       "nflId              0.0\n",
       "college            0.0\n",
       "heightInches       0.0\n",
       "weight             0.0\n",
       "ageAtDraft         0.0\n",
       "combineArm         0.0\n",
       "combine40yd        0.0\n",
       "combineVert        0.0\n",
       "combineBench       0.0\n",
       "combineShuttle     0.0\n",
       "combineBroad       0.0\n",
       "combine3cone       0.0\n",
       "dtype: float64"
      ]
     },
     "execution_count": 36,
     "metadata": {},
     "output_type": "execute_result"
    }
   ],
   "source": [
    "100*combine.isna().sum()/len(combine)"
   ]
  },
  {
   "cell_type": "markdown",
   "id": "f33dd6a3",
   "metadata": {},
   "source": [
    "##### Passer"
   ]
  },
  {
   "cell_type": "markdown",
   "id": "830f2d6d",
   "metadata": {},
   "source": [
    "Percent missing data for each column of combine dataset:"
   ]
  },
  {
   "cell_type": "code",
   "execution_count": 37,
   "id": "1b659d57",
   "metadata": {},
   "outputs": [
    {
     "data": {
      "text/plain": [
       "passId             0.000000\n",
       "playId             0.000000\n",
       "teamId             0.000000\n",
       "playerId           0.000000\n",
       "passPosition       0.000000\n",
       "passOutcomes       0.000000\n",
       "passDirection    695.802739\n",
       "passDepth        717.701925\n",
       "passLength         0.000000\n",
       "passAtt            0.000000\n",
       "passComp           0.000000\n",
       "passTd             0.000000\n",
       "passInt            0.000000\n",
       "passIntTd          0.000000\n",
       "passSack           0.000000\n",
       "passSackYds        0.000000\n",
       "passHit            0.000000\n",
       "passDef            0.000000\n",
       "passNull           0.000000\n",
       "dtype: float64"
      ]
     },
     "execution_count": 37,
     "metadata": {},
     "output_type": "execute_result"
    }
   ],
   "source": [
    "100*passer.isna().sum()/len(combine)"
   ]
  },
  {
   "cell_type": "code",
   "execution_count": 38,
   "id": "d6fa5a05",
   "metadata": {},
   "outputs": [
    {
     "data": {
      "text/plain": [
       "Index(['passId', 'playId', 'teamId', 'playerId', 'passPosition',\n",
       "       'passOutcomes', 'passDirection', 'passDepth', 'passLength', 'passAtt',\n",
       "       'passComp', 'passTd', 'passInt', 'passIntTd', 'passSack', 'passSackYds',\n",
       "       'passHit', 'passDef', 'passNull'],\n",
       "      dtype='object')"
      ]
     },
     "execution_count": 38,
     "metadata": {},
     "output_type": "execute_result"
    }
   ],
   "source": [
    "passer.columns"
   ]
  },
  {
   "cell_type": "code",
   "execution_count": 39,
   "id": "cd572048",
   "metadata": {},
   "outputs": [],
   "source": [
    "passer = passer.drop(columns=['passOutcomes', 'passDirection', 'passDepth'])"
   ]
  },
  {
   "cell_type": "markdown",
   "id": "8fa0474b",
   "metadata": {},
   "source": [
    "##### Games"
   ]
  },
  {
   "cell_type": "markdown",
   "id": "d8137371",
   "metadata": {},
   "source": [
    "Percent missing data for each column of combine dataset:"
   ]
  },
  {
   "cell_type": "code",
   "execution_count": null,
   "id": "e727a4b3",
   "metadata": {},
   "outputs": [],
   "source": []
  }
 ],
 "metadata": {
  "kernelspec": {
   "display_name": "Python 3",
   "language": "python",
   "name": "python3"
  },
  "language_info": {
   "codemirror_mode": {
    "name": "ipython",
    "version": 3
   },
   "file_extension": ".py",
   "mimetype": "text/x-python",
   "name": "python",
   "nbconvert_exporter": "python",
   "pygments_lexer": "ipython3",
   "version": "3.8.8"
  }
 },
 "nbformat": 4,
 "nbformat_minor": 5
}
